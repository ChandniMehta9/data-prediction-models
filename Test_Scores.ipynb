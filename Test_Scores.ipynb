{
  "nbformat": 4,
  "nbformat_minor": 0,
  "metadata": {
    "colab": {
      "provenance": [],
      "authorship_tag": "ABX9TyO/FJzm86Z4I0Z94/aWMG0c",
      "include_colab_link": true
    },
    "kernelspec": {
      "name": "python3",
      "display_name": "Python 3"
    },
    "language_info": {
      "name": "python"
    }
  },
  "cells": [
    {
      "cell_type": "markdown",
      "metadata": {
        "id": "view-in-github",
        "colab_type": "text"
      },
      "source": [
        "<a href=\"https://colab.research.google.com/github/ChandniMehta9/data-prediction-models/blob/main/Test_Scores.ipynb\" target=\"_parent\"><img src=\"https://colab.research.google.com/assets/colab-badge.svg\" alt=\"Open In Colab\"/></a>"
      ]
    },
    {
      "cell_type": "code",
      "metadata": {
        "colab": {
          "base_uri": "https://localhost:8080/"
        },
        "id": "GIpSVnlijmmG",
        "outputId": "79e7daf0-e5e7-4e34-f917-06d74afe5296"
      },
      "source": [
        "import pandas as pd\n",
        "data=pd.read_csv('test_scores.csv')\n",
        "print(data)\n",
        "print(data.columns)"
      ],
      "execution_count": 25,
      "outputs": [
        {
          "output_type": "stream",
          "name": "stdout",
          "text": [
            "     school school_setting school_type classroom teaching_method  n_student  \\\n",
            "0     ANKYI          Urban  Non-public       6OL        Standard       20.0   \n",
            "1     ANKYI          Urban  Non-public       6OL        Standard       20.0   \n",
            "2     ANKYI          Urban  Non-public       6OL        Standard       20.0   \n",
            "3     ANKYI          Urban  Non-public       6OL        Standard       20.0   \n",
            "4     ANKYI          Urban  Non-public       6OL        Standard       20.0   \n",
            "...     ...            ...         ...       ...             ...        ...   \n",
            "2128  ZOWMK          Urban      Public       ZBH        Standard       30.0   \n",
            "2129  ZOWMK          Urban      Public       ZBH        Standard       30.0   \n",
            "2130  ZOWMK          Urban      Public       ZBH        Standard       30.0   \n",
            "2131  ZOWMK          Urban      Public       ZBH        Standard       30.0   \n",
            "2132  ZOWMK          Urban      Public       ZBH        Standard       30.0   \n",
            "\n",
            "     student_id  gender                             lunch  pretest  posttest  \n",
            "0         2FHT3  Female                  Does not qualify     62.0      72.0  \n",
            "1         3JIVH  Female                  Does not qualify     66.0      79.0  \n",
            "2         3XOWE    Male                  Does not qualify     64.0      76.0  \n",
            "3         556O0  Female                  Does not qualify     61.0      77.0  \n",
            "4         74LOE    Male                  Does not qualify     64.0      76.0  \n",
            "...         ...     ...                               ...      ...       ...  \n",
            "2128      T8LSK  Female                  Does not qualify     39.0      55.0  \n",
            "2129      VNP26  Female  Qualifies for reduced/free lunch     38.0      46.0  \n",
            "2130      YDR1Z  Female  Qualifies for reduced/free lunch     45.0      51.0  \n",
            "2131      YUEIH    Male  Qualifies for reduced/free lunch     46.0      53.0  \n",
            "2132      ZVCQ8    Male  Qualifies for reduced/free lunch     41.0      48.0  \n",
            "\n",
            "[2133 rows x 11 columns]\n",
            "Index(['school', 'school_setting', 'school_type', 'classroom',\n",
            "       'teaching_method', 'n_student', 'student_id', 'gender', 'lunch',\n",
            "       'pretest', 'posttest'],\n",
            "      dtype='object')\n"
          ]
        }
      ]
    },
    {
      "cell_type": "code",
      "source": [
        "#visualizing the data \n",
        "import seaborn as sns\n",
        "import matplotlib.pyplot as plt\n",
        "fig = sns.histplot(data=data,\n",
        "                   x=\"posttest\",\n",
        "                   kde=True,\n",
        "                   stat=\"probability\",\n",
        "                  );\n",
        "\n",
        "plt.title(\"Distribution of Post-Test Scores\", fontweight=\"bold\", fontsize=18)\n",
        "plt.xlabel(\"Scores\")"
      ],
      "metadata": {
        "colab": {
          "base_uri": "https://localhost:8080/",
          "height": 317
        },
        "id": "xCI_KvzBbVOC",
        "outputId": "36098f55-5d8f-488f-d3c8-0df05ed20791"
      },
      "execution_count": 17,
      "outputs": [
        {
          "output_type": "execute_result",
          "data": {
            "text/plain": [
              "Text(0.5, 0, 'Scores')"
            ]
          },
          "metadata": {},
          "execution_count": 17
        },
        {
          "output_type": "display_data",
          "data": {
            "text/plain": [
              "<Figure size 432x288 with 1 Axes>"
            ],
            "image/png": "[encoded data removed]"
          },
          "metadata": {
            "needs_background": "light"
          }
        }
      ]
    },
    {
      "cell_type": "code",
      "metadata": {
        "colab": {
          "base_uri": "https://localhost:8080/",
          "height": 295
        },
        "id": "GXwJ33yxkVKD",
        "outputId": "007c882a-62b9-4d73-fb08-ccdff3b56bc1"
      },
      "source": [
        "#visualizing the data \n",
        "score=data['posttest'][1:1000]\n",
        "type=data['school_type'][1:1000]\n",
        "plt.scatter(type,score)\n",
        "plt.title('Type of School vs Performance in Tests')\n",
        "plt.xlabel('type of school')\n",
        "plt.ylabel('test scores')\n",
        "plt.show()"
      ],
      "execution_count": 18,
      "outputs": [
        {
          "output_type": "display_data",
          "data": {
            "text/plain": [
              "<Figure size 432x288 with 1 Axes>"
            ],
            "image/png": "[encoded data removed]"
          },
          "metadata": {
            "needs_background": "light"
          }
        }
      ]
    },
    {
      "cell_type": "code",
      "metadata": {
        "colab": {
          "base_uri": "https://localhost:8080/",
          "height": 295
        },
        "id": "B7fsSjj2oXlq",
        "outputId": "63f18c39-1c25-4be6-88a5-9642cbb11db9"
      },
      "source": [
        "#visualizing the data \n",
        "import matplotlib.pyplot as plt\n",
        "score=data['posttest'][1:1000]\n",
        "type=data['school_type'][1:1000]\n",
        "plt.plot(type,score)\n",
        "plt.title('Type of School vs Performance in Tests')\n",
        "plt.xlabel('Type of School')\n",
        "plt.ylabel('Test Scores')\n",
        "plt.show()"
      ],
      "execution_count": 19,
      "outputs": [
        {
          "output_type": "display_data",
          "data": {
            "text/plain": [
              "<Figure size 432x288 with 1 Axes>"
            ],
            "image/png": "[encoded data removed]"
          },
          "metadata": {
            "needs_background": "light"
          }
        }
      ]
    },
    {
      "cell_type": "code",
      "source": [
        "#cleaning data\n",
        "data.drop(['school', 'school_setting','classroom',\n",
        "       'teaching_method', 'n_student', 'student_id', 'gender', 'lunch',\n",
        "       'pretest'],axis=1,inplace=True)\n",
        "data.dropna(inplace=True)\n",
        "data.isnull().sum()\n",
        "data.head()"
      ],
      "metadata": {
        "colab": {
          "base_uri": "https://localhost:8080/",
          "height": 206
        },
        "id": "ay7YjXH5P8-Q",
        "outputId": "99f2f322-2e79-431c-8a9b-818b8a9110bc"
      },
      "execution_count": 26,
      "outputs": [
        {
          "output_type": "execute_result",
          "data": {
            "text/plain": [
              "  school_type  posttest\n",
              "0  Non-public      72.0\n",
              "1  Non-public      79.0\n",
              "2  Non-public      76.0\n",
              "3  Non-public      77.0\n",
              "4  Non-public      76.0"
            ],
            "text/html": [
              "\n",
              "  <div id=\"df-acbf994d-11a6-47f5-ae93-85b42c121087\">\n",
              "    <div class=\"colab-df-container\">\n",
              "      <div>\n",
              "<style scoped>\n",
              "    .dataframe tbody tr th:only-of-type {\n",
              "        vertical-align: middle;\n",
              "    }\n",
              "\n",
              "    .dataframe tbody tr th {\n",
              "        vertical-align: top;\n",
              "    }\n",
              "\n",
              "    .dataframe thead th {\n",
              "        text-align: right;\n",
              "    }\n",
              "</style>\n",
              "<table border=\"1\" class=\"dataframe\">\n",
              "  <thead>\n",
              "    <tr style=\"text-align: right;\">\n",
              "      <th></th>\n",
              "      <th>school_type</th>\n",
              "      <th>posttest</th>\n",
              "    </tr>\n",
              "  </thead>\n",
              "  <tbody>\n",
              "    <tr>\n",
              "      <th>0</th>\n",
              "      <td>Non-public</td>\n",
              "      <td>72.0</td>\n",
              "    </tr>\n",
              "    <tr>\n",
              "      <th>1</th>\n",
              "      <td>Non-public</td>\n",
              "      <td>79.0</td>\n",
              "    </tr>\n",
              "    <tr>\n",
              "      <th>2</th>\n",
              "      <td>Non-public</td>\n",
              "      <td>76.0</td>\n",
              "    </tr>\n",
              "    <tr>\n",
              "      <th>3</th>\n",
              "      <td>Non-public</td>\n",
              "      <td>77.0</td>\n",
              "    </tr>\n",
              "    <tr>\n",
              "      <th>4</th>\n",
              "      <td>Non-public</td>\n",
              "      <td>76.0</td>\n",
              "    </tr>\n",
              "  </tbody>\n",
              "</table>\n",
              "</div>\n",
              "      <button class=\"colab-df-convert\" onclick=\"convertToInteractive('df-acbf994d-11a6-47f5-ae93-85b42c121087')\"\n",
              "              title=\"Convert this dataframe to an interactive table.\"\n",
              "              style=\"display:none;\">\n",
              "        \n",
              "  <svg xmlns=\"http://www.w3.org/2000/svg\" height=\"24px\"viewBox=\"0 0 24 24\"\n",
              "       width=\"24px\">\n",
              "    <path d=\"M0 0h24v24H0V0z\" fill=\"none\"/>\n",
              "    <path d=\"M18.56 5.44l.94 2.06.94-2.06 2.06-.94-2.06-.94-.94-2.06-.94 2.06-2.06.94zm-11 1L8.5 8.5l.94-2.06 2.06-.94-2.06-.94L8.5 2.5l-.94 2.06-2.06.94zm10 10l.94 2.06.94-2.06 2.06-.94-2.06-.94-.94-2.06-.94 2.06-2.06.94z\"/><path d=\"M17.41 7.96l-1.37-1.37c-.4-.4-.92-.59-1.43-.59-.52 0-1.04.2-1.43.59L10.3 9.45l-7.72 7.72c-.78.78-.78 2.05 0 2.83L4 21.41c.39.39.9.59 1.41.59.51 0 1.02-.2 1.41-.59l7.78-7.78 2.81-2.81c.8-.78.8-2.07 0-2.86zM5.41 20L4 18.59l7.72-7.72 1.47 1.35L5.41 20z\"/>\n",
              "  </svg>\n",
              "      </button>\n",
              "      \n",
              "  <style>\n",
              "    .colab-df-container {\n",
              "      display:flex;\n",
              "      flex-wrap:wrap;\n",
              "      gap: 12px;\n",
              "    }\n",
              "\n",
              "    .colab-df-convert {\n",
              "      background-color: #E8F0FE;\n",
              "      border: none;\n",
              "      border-radius: 50%;\n",
              "      cursor: pointer;\n",
              "      display: none;\n",
              "      fill: #1967D2;\n",
              "      height: 32px;\n",
              "      padding: 0 0 0 0;\n",
              "      width: 32px;\n",
              "    }\n",
              "\n",
              "    .colab-df-convert:hover {\n",
              "      background-color: #E2EBFA;\n",
              "      box-shadow: 0px 1px 2px rgba(60, 64, 67, 0.3), 0px 1px 3px 1px rgba(60, 64, 67, 0.15);\n",
              "      fill: #174EA6;\n",
              "    }\n",
              "\n",
              "    [theme=dark] .colab-df-convert {\n",
              "      background-color: #3B4455;\n",
              "      fill: #D2E3FC;\n",
              "    }\n",
              "\n",
              "    [theme=dark] .colab-df-convert:hover {\n",
              "      background-color: #434B5C;\n",
              "      box-shadow: 0px 1px 3px 1px rgba(0, 0, 0, 0.15);\n",
              "      filter: drop-shadow(0px 1px 2px rgba(0, 0, 0, 0.3));\n",
              "      fill: #FFFFFF;\n",
              "    }\n",
              "  </style>\n",
              "\n",
              "      <script>\n",
              "        const buttonEl =\n",
              "          document.querySelector('#df-acbf994d-11a6-47f5-ae93-85b42c121087 button.colab-df-convert');\n",
              "        buttonEl.style.display =\n",
              "          google.colab.kernel.accessAllowed ? 'block' : 'none';\n",
              "\n",
              "        async function convertToInteractive(key) {\n",
              "          const element = document.querySelector('#df-acbf994d-11a6-47f5-ae93-85b42c121087');\n",
              "          const dataTable =\n",
              "            await google.colab.kernel.invokeFunction('convertToInteractive',\n",
              "                                                     [key], {});\n",
              "          if (!dataTable) return;\n",
              "\n",
              "          const docLinkHtml = 'Like what you see? Visit the ' +\n",
              "            '<a target=\"_blank\" href=https://colab.research.google.com/notebooks/data_table.ipynb>data table notebook</a>'\n",
              "            + ' to learn more about interactive tables.';\n",
              "          element.innerHTML = '';\n",
              "          dataTable['output_type'] = 'display_data';\n",
              "          await google.colab.output.renderOutput(dataTable, element);\n",
              "          const docLink = document.createElement('div');\n",
              "          docLink.innerHTML = docLinkHtml;\n",
              "          element.appendChild(docLink);\n",
              "        }\n",
              "      </script>\n",
              "    </div>\n",
              "  </div>\n",
              "  "
            ]
          },
          "metadata": {},
          "execution_count": 26
        }
      ]
    },
    {
      "cell_type": "code",
      "source": [
        "x=data[[\"posttest\"]]\n",
        "y=data[[\"school_type\"]]"
      ],
      "metadata": {
        "id": "CHi4104_puUZ"
      },
      "execution_count": 46,
      "outputs": []
    },
    {
      "cell_type": "code",
      "source": [
        "from sklearn.preprocessing import LabelEncoder\n",
        "le=LabelEncoder()\n",
        "y[\"school_type\"]=le.fit_transform(y[\"school_type\"])\n",
        "print(y.head())"
      ],
      "metadata": {
        "colab": {
          "base_uri": "https://localhost:8080/"
        },
        "id": "RvyNMRi2vlFB",
        "outputId": "779420c4-cd92-48a0-de48-91d1548d3cb0"
      },
      "execution_count": 50,
      "outputs": [
        {
          "output_type": "stream",
          "name": "stdout",
          "text": [
            "   school_type\n",
            "0            0\n",
            "1            0\n",
            "2            0\n",
            "3            0\n",
            "4            0\n"
          ]
        },
        {
          "output_type": "stream",
          "name": "stderr",
          "text": [
            "<ipython-input-50-88370f8162d7>:3: SettingWithCopyWarning: \n",
            "A value is trying to be set on a copy of a slice from a DataFrame.\n",
            "Try using .loc[row_indexer,col_indexer] = value instead\n",
            "\n",
            "See the caveats in the documentation: https://pandas.pydata.org/pandas-docs/stable/user_guide/indexing.html#returning-a-view-versus-a-copy\n",
            "  y[\"school_type\"]=le.fit_transform(y[\"school_type\"])\n"
          ]
        }
      ]
    },
    {
      "cell_type": "code",
      "source": [
        "from sklearn.model_selection import train_test_split\n",
        "x_train,x_test,y_train,y_test=train_test_split(x,y,test_size=0.2,random_state=0)\n",
        "from sklearn import linear_model\n",
        "regr = linear_model.LinearRegression()\n",
        "regr.fit(x_train,y_train)\n",
        "y_pred=regr.predict(x_test)\n",
        "from sklearn.metrics import mean_squared_error, r2_score\n",
        "mse=mean_squared_error(y_test,y_pred)\n",
        "rscore=r2_score(y_test,y_pred)\n",
        "print(mse,rscore)"
      ],
      "metadata": {
        "colab": {
          "base_uri": "https://localhost:8080/"
        },
        "id": "llw9h5pP2JW_",
        "outputId": "158265e0-ebb9-4923-de6e-b08834b1980c"
      },
      "execution_count": 59,
      "outputs": [
        {
          "output_type": "stream",
          "name": "stdout",
          "text": [
            "0.16719689879330013 0.125757288210966\n"
          ]
        }
      ]
    }
  ]
}